{
 "cells": [
  {
   "cell_type": "code",
   "execution_count": 18,
   "id": "fecf1766",
   "metadata": {},
   "outputs": [],
   "source": [
    "import matplotlib.pyplot as plt\n",
    "%matplotlib inline\n",
    "import numpy as np\n",
    "import pandas as pd\n",
    "from scipy import stats\n",
    "import seaborn as sns\n",
    "from statsmodels.stats.multitest import multipletests"
   ]
  },
  {
   "cell_type": "code",
   "execution_count": 19,
   "id": "f9e28cfb-cd71-4857-bdcd-7d54ea088a5b",
   "metadata": {},
   "outputs": [
    {
     "name": "stderr",
     "output_type": "stream",
     "text": [
      "C:\\Users\\r04km21\\AppData\\Local\\Temp\\ipykernel_14984\\2964369954.py:1: ParserWarning: Falling back to the 'python' engine because the 'c' engine does not support regex separators (separators > 1 char and different from '\\s+' are interpreted as regex); you can avoid this warning by specifying engine='python'.\n",
      "  df = pd.read_csv(\"270924_1380.txt\", sep=\", \")\n"
     ]
    }
   ],
   "source": [
    "df = pd.read_csv(\"270924_1380.txt\", sep=\", \")"
   ]
  },
  {
   "cell_type": "code",
   "execution_count": 20,
   "id": "7cbe6034",
   "metadata": {},
   "outputs": [
    {
     "data": {
      "text/plain": [
       "Index(['date', 'strain', 'number', 'dots', 'cells'], dtype='object')"
      ]
     },
     "execution_count": 20,
     "metadata": {},
     "output_type": "execute_result"
    }
   ],
   "source": [
    "df.columns"
   ]
  },
  {
   "cell_type": "code",
   "execution_count": 21,
   "id": "790c0d94",
   "metadata": {},
   "outputs": [],
   "source": [
    "df_number = df.groupby([\"strain\", \"number\"], as_index=False).sum()\n",
    "df_number[\"SE\"] = df_number[\"dots\"] * 100 / df_number[\"cells\"]"
   ]
  },
  {
   "cell_type": "code",
   "execution_count": 22,
   "id": "3b5e9a44",
   "metadata": {},
   "outputs": [
    {
     "data": {
      "text/html": [
       "<div>\n",
       "<style scoped>\n",
       "    .dataframe tbody tr th:only-of-type {\n",
       "        vertical-align: middle;\n",
       "    }\n",
       "\n",
       "    .dataframe tbody tr th {\n",
       "        vertical-align: top;\n",
       "    }\n",
       "\n",
       "    .dataframe thead th {\n",
       "        text-align: right;\n",
       "    }\n",
       "</style>\n",
       "<table border=\"1\" class=\"dataframe\">\n",
       "  <thead>\n",
       "    <tr style=\"text-align: right;\">\n",
       "      <th></th>\n",
       "      <th>strain</th>\n",
       "      <th>number</th>\n",
       "      <th>date</th>\n",
       "      <th>dots</th>\n",
       "      <th>cells</th>\n",
       "      <th>SE</th>\n",
       "    </tr>\n",
       "  </thead>\n",
       "  <tbody>\n",
       "    <tr>\n",
       "      <th>0</th>\n",
       "      <td>795</td>\n",
       "      <td>1</td>\n",
       "      <td>812772</td>\n",
       "      <td>42</td>\n",
       "      <td>174</td>\n",
       "      <td>24.137931</td>\n",
       "    </tr>\n",
       "    <tr>\n",
       "      <th>1</th>\n",
       "      <td>795</td>\n",
       "      <td>2</td>\n",
       "      <td>812772</td>\n",
       "      <td>22</td>\n",
       "      <td>154</td>\n",
       "      <td>14.285714</td>\n",
       "    </tr>\n",
       "    <tr>\n",
       "      <th>2</th>\n",
       "      <td>795</td>\n",
       "      <td>3</td>\n",
       "      <td>812772</td>\n",
       "      <td>13</td>\n",
       "      <td>93</td>\n",
       "      <td>13.978495</td>\n",
       "    </tr>\n",
       "    <tr>\n",
       "      <th>3</th>\n",
       "      <td>897</td>\n",
       "      <td>1</td>\n",
       "      <td>541848</td>\n",
       "      <td>3</td>\n",
       "      <td>105</td>\n",
       "      <td>2.857143</td>\n",
       "    </tr>\n",
       "    <tr>\n",
       "      <th>4</th>\n",
       "      <td>897</td>\n",
       "      <td>2</td>\n",
       "      <td>270924</td>\n",
       "      <td>0</td>\n",
       "      <td>64</td>\n",
       "      <td>0.000000</td>\n",
       "    </tr>\n",
       "    <tr>\n",
       "      <th>5</th>\n",
       "      <td>897</td>\n",
       "      <td>3</td>\n",
       "      <td>812772</td>\n",
       "      <td>4</td>\n",
       "      <td>107</td>\n",
       "      <td>3.738318</td>\n",
       "    </tr>\n",
       "    <tr>\n",
       "      <th>6</th>\n",
       "      <td>1380</td>\n",
       "      <td>1</td>\n",
       "      <td>1083696</td>\n",
       "      <td>18</td>\n",
       "      <td>151</td>\n",
       "      <td>11.920530</td>\n",
       "    </tr>\n",
       "    <tr>\n",
       "      <th>7</th>\n",
       "      <td>1380</td>\n",
       "      <td>2</td>\n",
       "      <td>812772</td>\n",
       "      <td>16</td>\n",
       "      <td>134</td>\n",
       "      <td>11.940299</td>\n",
       "    </tr>\n",
       "    <tr>\n",
       "      <th>8</th>\n",
       "      <td>1380</td>\n",
       "      <td>3</td>\n",
       "      <td>812772</td>\n",
       "      <td>20</td>\n",
       "      <td>133</td>\n",
       "      <td>15.037594</td>\n",
       "    </tr>\n",
       "  </tbody>\n",
       "</table>\n",
       "</div>"
      ],
      "text/plain": [
       "   strain  number     date  dots  cells         SE\n",
       "0     795       1   812772    42    174  24.137931\n",
       "1     795       2   812772    22    154  14.285714\n",
       "2     795       3   812772    13     93  13.978495\n",
       "3     897       1   541848     3    105   2.857143\n",
       "4     897       2   270924     0     64   0.000000\n",
       "5     897       3   812772     4    107   3.738318\n",
       "6    1380       1  1083696    18    151  11.920530\n",
       "7    1380       2   812772    16    134  11.940299\n",
       "8    1380       3   812772    20    133  15.037594"
      ]
     },
     "execution_count": 22,
     "metadata": {},
     "output_type": "execute_result"
    }
   ],
   "source": [
    "df_number"
   ]
  },
  {
   "cell_type": "code",
   "execution_count": 23,
   "id": "5fc72cf3-7669-44bd-86af-c6f0b8205dc1",
   "metadata": {},
   "outputs": [],
   "source": [
    "SE_mean = df_number.groupby(\"strain\").mean()[\"SE\"]\n",
    "SE_sem = df_number.groupby(\"strain\").std()[\"SE\"].values / np.sqrt(3)"
   ]
  },
  {
   "cell_type": "code",
   "execution_count": 24,
   "id": "d18fa512-c544-44d5-8fa8-7481334411ea",
   "metadata": {},
   "outputs": [
    {
     "data": {
      "text/plain": [
       "array([3.33645443, 1.12829158, 1.03574233])"
      ]
     },
     "execution_count": 24,
     "metadata": {},
     "output_type": "execute_result"
    }
   ],
   "source": [
    "SE_sem"
   ]
  },
  {
   "cell_type": "code",
   "execution_count": 25,
   "id": "add1c6d0-800e-4c3c-b976-6f0cf8917f17",
   "metadata": {},
   "outputs": [
    {
     "data": {
      "text/plain": [
       "strain\n",
       "795     17.467380\n",
       "897      2.198487\n",
       "1380    12.966141\n",
       "Name: SE, dtype: float64"
      ]
     },
     "execution_count": 25,
     "metadata": {},
     "output_type": "execute_result"
    }
   ],
   "source": [
    "SE_mean"
   ]
  },
  {
   "cell_type": "markdown",
   "id": "015103aa-62f2-4664-82f8-29649d2b42ee",
   "metadata": {},
   "source": [
    "## Welth's t-test collected with Holm-Sidak"
   ]
  },
  {
   "cell_type": "code",
   "execution_count": 26,
   "id": "43b4bd9b-2ae0-4005-9f92-6bb7fc1354c4",
   "metadata": {},
   "outputs": [],
   "source": [
    "WT_SE = df_number[df_number[\"strain\"] == 795][\"SE\"]\n",
    "atg18_SE = df_number[df_number[\"strain\"] == 897][\"SE\"]\n",
    "yRL1380_SE = df_number[df_number[\"strain\"] == 1380][\"SE\"]"
   ]
  },
  {
   "cell_type": "code",
   "execution_count": 27,
   "id": "2abafd5d-c692-4889-bbb8-e69d3d9223b2",
   "metadata": {},
   "outputs": [
    {
     "data": {
      "text/plain": [
       "0.033796553103653704"
      ]
     },
     "execution_count": 27,
     "metadata": {},
     "output_type": "execute_result"
    }
   ],
   "source": [
    "statistic, atg18_pvalue = stats.ttest_ind(WT_SE, atg18_SE, equal_var=False)\n",
    "atg18_pvalue"
   ]
  },
  {
   "cell_type": "code",
   "execution_count": 28,
   "id": "81818979-3edc-434d-827a-e6537750059b",
   "metadata": {},
   "outputs": [
    {
     "data": {
      "text/plain": [
       "0.30849856013428784"
      ]
     },
     "execution_count": 28,
     "metadata": {},
     "output_type": "execute_result"
    }
   ],
   "source": [
    "statistic, yRL1380_pvalue = stats.ttest_ind(WT_SE, yRL1380_SE, equal_var=False)\n",
    "yRL1380_pvalue"
   ]
  },
  {
   "cell_type": "code",
   "execution_count": 29,
   "id": "33b58477-0a9a-4b39-abee-c76fbd966852",
   "metadata": {},
   "outputs": [
    {
     "data": {
      "text/plain": [
       "(array([False, False]),\n",
       " array([0.0664509 , 0.30849856]),\n",
       " 0.025320565519103666,\n",
       " 0.025)"
      ]
     },
     "execution_count": 29,
     "metadata": {},
     "output_type": "execute_result"
    }
   ],
   "source": [
    "multipletests(pvals=[atg18_pvalue, yRL1380_pvalue], alpha=0.05, method=\"holm-sidak\")"
   ]
  },
  {
   "cell_type": "markdown",
   "id": "f3e3c292-dfe6-405e-b96b-4e186e2b1945",
   "metadata": {},
   "source": [
    "## figure"
   ]
  },
  {
   "cell_type": "code",
   "execution_count": 34,
   "id": "bff94878-138d-4e43-9ae0-bbe7d918bae1",
   "metadata": {},
   "outputs": [
    {
     "data": {
      "image/png": "[encoded data removed]",
      "text/plain": [
       "<Figure size 300x200 with 1 Axes>"
      ]
     },
     "metadata": {},
     "output_type": "display_data"
    }
   ],
   "source": [
    "fontsize = 15\n",
    "\n",
    "fig, ax = plt.subplots(figsize = (3, 2), dpi=100)\n",
    "sns.swarmplot(x=\"strain\", y=\"SE\", data=df_number, size=6, color=\"black\")\n",
    "ax.spines['right'].set_visible(False)\n",
    "ax.spines['top'].set_visible(False)\n",
    "y_height = -9\n",
    "ax.text(0, y_height, \"WT\", ha=\"center\", va=\"center\", fontsize=fontsize)\n",
    "ax.text(1, y_height, \"atg18Δ\", ha=\"center\", va=\"center\", fontstyle=\"italic\", fontsize=fontsize)\n",
    "ax.text(1.6, y_height, \"mCherry\\n-ATG18\", ha=\"left\", va=\"center\", fontstyle=\"italic\", fontsize=fontsize)\n",
    "\n",
    "ax.set_xlim(-0.5, 2.5)\n",
    "ax.set_ylim(-2, 30)\n",
    "\n",
    "y_p = 26\n",
    "ax.plot([0, 1], [y_p, y_p], color='k', lw=1)\n",
    "ax.text(1, y_p-4, f'p = {atg18_pvalue:.3f}', ha='center', fontsize=fontsize-2)\n",
    "y_p2 = 27\n",
    "ax.plot([0, 2], [y_p2, y_p2], color='k', lw=1)\n",
    "ax.text(1.5, y_p2+1, f'p = {yRL1380_pvalue:.3f}', ha='center', fontsize=fontsize-2)\n",
    "\n",
    "ax.set_xticklabels(\"\")\n",
    "ax.set_xlabel(\"\")\n",
    "ax.errorbar(x=[0, 1, 2], y=SE_mean, yerr=SE_sem, capsize=5, fmt='_', ecolor='k', ms=20, mfc='None', mec='k')\n",
    "ax.set_yticks([0, 10, 20, 30])\n",
    "ax.set_yticklabels([\"0\", \"10\", \"20\", \"30\"], fontsize=fontsize)\n",
    "ax.set_ylabel(\"% of cells\\n with puncta\", fontsize=fontsize, loc=\"center\")\n",
    "fig.savefig(\"output.jpg\", bbox_inches=\"tight\")\n",
    "plt.show()"
   ]
  }
 ],
 "metadata": {
  "kernelspec": {
   "display_name": "Python 3 (ipykernel)",
   "language": "python",
   "name": "python3"
  },
  "language_info": {
   "codemirror_mode": {
    "name": "ipython",
    "version": 3
   },
   "file_extension": ".py",
   "mimetype": "text/x-python",
   "name": "python",
   "nbconvert_exporter": "python",
   "pygments_lexer": "ipython3",
   "version": "3.12.7"
  }
 },
 "nbformat": 4,
 "nbformat_minor": 5
}
