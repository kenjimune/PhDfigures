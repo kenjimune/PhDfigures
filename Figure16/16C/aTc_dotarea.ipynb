{
 "cells": [
  {
   "cell_type": "code",
   "execution_count": 2,
   "id": "fecf1766",
   "metadata": {},
   "outputs": [],
   "source": [
    "import matplotlib.pyplot as plt\n",
    "%matplotlib inline\n",
    "import numpy as np\n",
    "import pandas as pd\n",
    "import seaborn as sns\n",
    "from scipy import stats"
   ]
  },
  {
   "cell_type": "code",
   "execution_count": 3,
   "id": "7cbe6034",
   "metadata": {},
   "outputs": [
    {
     "data": {
      "text/html": [
       "<div>\n",
       "<style scoped>\n",
       "    .dataframe tbody tr th:only-of-type {\n",
       "        vertical-align: middle;\n",
       "    }\n",
       "\n",
       "    .dataframe tbody tr th {\n",
       "        vertical-align: top;\n",
       "    }\n",
       "\n",
       "    .dataframe thead th {\n",
       "        text-align: right;\n",
       "    }\n",
       "</style>\n",
       "<table border=\"1\" class=\"dataframe\">\n",
       "  <thead>\n",
       "    <tr style=\"text-align: right;\">\n",
       "      <th></th>\n",
       "      <th>date</th>\n",
       "      <th>concentration</th>\n",
       "      <th>number</th>\n",
       "      <th>image</th>\n",
       "      <th>z_stack</th>\n",
       "      <th>area</th>\n",
       "    </tr>\n",
       "  </thead>\n",
       "  <tbody>\n",
       "    <tr>\n",
       "      <th>0</th>\n",
       "      <td>90524</td>\n",
       "      <td>1</td>\n",
       "      <td>3</td>\n",
       "      <td>39</td>\n",
       "      <td>5</td>\n",
       "      <td>34</td>\n",
       "    </tr>\n",
       "    <tr>\n",
       "      <th>1</th>\n",
       "      <td>90524</td>\n",
       "      <td>1</td>\n",
       "      <td>3</td>\n",
       "      <td>39</td>\n",
       "      <td>6</td>\n",
       "      <td>45</td>\n",
       "    </tr>\n",
       "    <tr>\n",
       "      <th>2</th>\n",
       "      <td>90524</td>\n",
       "      <td>1</td>\n",
       "      <td>3</td>\n",
       "      <td>39</td>\n",
       "      <td>9</td>\n",
       "      <td>11</td>\n",
       "    </tr>\n",
       "    <tr>\n",
       "      <th>3</th>\n",
       "      <td>90524</td>\n",
       "      <td>1</td>\n",
       "      <td>3</td>\n",
       "      <td>39</td>\n",
       "      <td>9</td>\n",
       "      <td>76</td>\n",
       "    </tr>\n",
       "    <tr>\n",
       "      <th>4</th>\n",
       "      <td>90524</td>\n",
       "      <td>1</td>\n",
       "      <td>3</td>\n",
       "      <td>39</td>\n",
       "      <td>9</td>\n",
       "      <td>3</td>\n",
       "    </tr>\n",
       "  </tbody>\n",
       "</table>\n",
       "</div>"
      ],
      "text/plain": [
       "    date  concentration  number  image  z_stack  area\n",
       "0  90524              1       3     39        5    34\n",
       "1  90524              1       3     39        6    45\n",
       "2  90524              1       3     39        9    11\n",
       "3  90524              1       3     39        9    76\n",
       "4  90524              1       3     39        9     3"
      ]
     },
     "execution_count": 3,
     "metadata": {},
     "output_type": "execute_result"
    }
   ],
   "source": [
    "df = pd.read_csv(\"aTc_dotarea.csv\")\n",
    "df.head()"
   ]
  },
  {
   "cell_type": "code",
   "execution_count": 4,
   "id": "07a92308-8ebf-4dfe-9aef-32470269a674",
   "metadata": {},
   "outputs": [
    {
     "data": {
      "text/html": [
       "<div>\n",
       "<style scoped>\n",
       "    .dataframe tbody tr th:only-of-type {\n",
       "        vertical-align: middle;\n",
       "    }\n",
       "\n",
       "    .dataframe tbody tr th {\n",
       "        vertical-align: top;\n",
       "    }\n",
       "\n",
       "    .dataframe thead th {\n",
       "        text-align: right;\n",
       "    }\n",
       "</style>\n",
       "<table border=\"1\" class=\"dataframe\">\n",
       "  <thead>\n",
       "    <tr style=\"text-align: right;\">\n",
       "      <th></th>\n",
       "      <th>concentration</th>\n",
       "      <th>number</th>\n",
       "      <th>area</th>\n",
       "    </tr>\n",
       "  </thead>\n",
       "  <tbody>\n",
       "    <tr>\n",
       "      <th>0</th>\n",
       "      <td>1</td>\n",
       "      <td>1</td>\n",
       "      <td>27.038462</td>\n",
       "    </tr>\n",
       "    <tr>\n",
       "      <th>1</th>\n",
       "      <td>1</td>\n",
       "      <td>2</td>\n",
       "      <td>20.142857</td>\n",
       "    </tr>\n",
       "    <tr>\n",
       "      <th>2</th>\n",
       "      <td>1</td>\n",
       "      <td>3</td>\n",
       "      <td>13.000000</td>\n",
       "    </tr>\n",
       "    <tr>\n",
       "      <th>3</th>\n",
       "      <td>10</td>\n",
       "      <td>1</td>\n",
       "      <td>16.060606</td>\n",
       "    </tr>\n",
       "    <tr>\n",
       "      <th>4</th>\n",
       "      <td>10</td>\n",
       "      <td>2</td>\n",
       "      <td>24.303030</td>\n",
       "    </tr>\n",
       "    <tr>\n",
       "      <th>5</th>\n",
       "      <td>10</td>\n",
       "      <td>3</td>\n",
       "      <td>21.593750</td>\n",
       "    </tr>\n",
       "  </tbody>\n",
       "</table>\n",
       "</div>"
      ],
      "text/plain": [
       "   concentration  number       area\n",
       "0              1       1  27.038462\n",
       "1              1       2  20.142857\n",
       "2              1       3  13.000000\n",
       "3             10       1  16.060606\n",
       "4             10       2  24.303030\n",
       "5             10       3  21.593750"
      ]
     },
     "execution_count": 4,
     "metadata": {},
     "output_type": "execute_result"
    }
   ],
   "source": [
    "# calculate the mean area for each concentration and biological replicate\n",
    "df_mean = df.groupby(['concentration', 'number'], as_index=False)['area'].mean()\n",
    "df_mean"
   ]
  },
  {
   "cell_type": "code",
   "execution_count": 5,
   "id": "8a762b3e-b727-467f-bbc7-065be730a3fe",
   "metadata": {},
   "outputs": [
    {
     "data": {
      "text/html": [
       "<div>\n",
       "<style scoped>\n",
       "    .dataframe tbody tr th:only-of-type {\n",
       "        vertical-align: middle;\n",
       "    }\n",
       "\n",
       "    .dataframe tbody tr th {\n",
       "        vertical-align: top;\n",
       "    }\n",
       "\n",
       "    .dataframe thead th {\n",
       "        text-align: right;\n",
       "    }\n",
       "</style>\n",
       "<table border=\"1\" class=\"dataframe\">\n",
       "  <thead>\n",
       "    <tr style=\"text-align: right;\">\n",
       "      <th></th>\n",
       "      <th>concentration</th>\n",
       "      <th>area</th>\n",
       "      <th>sem</th>\n",
       "    </tr>\n",
       "  </thead>\n",
       "  <tbody>\n",
       "    <tr>\n",
       "      <th>0</th>\n",
       "      <td>1</td>\n",
       "      <td>21.909091</td>\n",
       "      <td>4.052764</td>\n",
       "    </tr>\n",
       "    <tr>\n",
       "      <th>1</th>\n",
       "      <td>10</td>\n",
       "      <td>20.642857</td>\n",
       "      <td>2.425483</td>\n",
       "    </tr>\n",
       "  </tbody>\n",
       "</table>\n",
       "</div>"
      ],
      "text/plain": [
       "   concentration       area       sem\n",
       "0              1  21.909091  4.052764\n",
       "1             10  20.642857  2.425483"
      ]
     },
     "execution_count": 5,
     "metadata": {},
     "output_type": "execute_result"
    }
   ],
   "source": [
    "# calculate sem and mean for each concentration\n",
    "df_error = df.groupby('concentration', as_index=False)['area'].mean()\n",
    "df_error['sem'] = df_mean.groupby(['concentration'])['area'].std().values / np.sqrt(3)\n",
    "df_error"
   ]
  },
  {
   "cell_type": "markdown",
   "id": "b63a90e0-90b8-49cc-8bf1-5f983a7b9958",
   "metadata": {},
   "source": [
    "## t-test (paired)"
   ]
  },
  {
   "cell_type": "code",
   "execution_count": 6,
   "id": "4f9ae402-84a6-4345-ab05-36d9dcabb47e",
   "metadata": {},
   "outputs": [
    {
     "data": {
      "text/plain": [
       "0.929519940162987"
      ]
     },
     "execution_count": 6,
     "metadata": {},
     "output_type": "execute_result"
    }
   ],
   "source": [
    "# t-test between aTc1 and aTc10 (paired)\n",
    "aTc1_area = df_mean[df_mean[\"concentration\"] == 1][\"area\"]\n",
    "aTc10_area = df_mean[df_mean[\"concentration\"] == 10][\"area\"]\n",
    "statistic, pvalue = stats.ttest_rel(aTc1_area, aTc10_area)\n",
    "pvalue"
   ]
  },
  {
   "cell_type": "code",
   "execution_count": 7,
   "id": "249d3b13",
   "metadata": {},
   "outputs": [],
   "source": [
    "# no significance"
   ]
  },
  {
   "cell_type": "markdown",
   "id": "e78b6fe9-16fa-49ef-8dfb-8facfe51baff",
   "metadata": {},
   "source": [
    "## data visualization"
   ]
  },
  {
   "cell_type": "code",
   "execution_count": 8,
   "id": "027071ca-8bb8-4ead-bc65-0c7f8ec4c34e",
   "metadata": {},
   "outputs": [
    {
     "data": {
      "image/png": "[encoded data removed]",
      "text/plain": [
       "<Figure size 300x600 with 1 Axes>"
      ]
     },
     "metadata": {},
     "output_type": "display_data"
    }
   ],
   "source": [
    "fontsize=15\n",
    "fig, ax = plt.subplots(figsize = (3, 6), dpi=100)\n",
    "# small dots for individual data points and large dots for mean\n",
    "ax1 = sns.swarmplot(x=\"concentration\", y=\"area\", data=df, hue='number', size=5, palette='deep')\n",
    "ax2 = sns.swarmplot(x='concentration', y='area', data=df_mean,\\\n",
    "                    hue='number', size=10, palette='deep', edgecolor='k', linewidth=2)\n",
    "ax.errorbar(x=[0, 1], y='area', yerr='sem', data=df_error, \\\n",
    "            capsize=8, fmt=' ', ecolor='k', capthick=3\n",
    "            )\n",
    "# horizontal line for the mean (somehow could not change by ax.errorbar)\n",
    "diff = 0.18\n",
    "ax.plot([0-diff, 0+diff], [df_error['area'].iloc[0], df_error['area'].iloc[0]], lw=3, color='k')\n",
    "ax.plot([1-diff, 1+diff], [df_error['area'].iloc[1], df_error['area'].iloc[1]], lw=3, color='k')\n",
    "# setting of the plot\n",
    "ax.spines['right'].set_visible(False)\n",
    "ax.spines['top'].set_visible(False)\n",
    "# setting of x axis\n",
    "ax.set_xlim(-0.5, 1.5)\n",
    "ax.set_xlabel(\"aTc (ng/ml), 120 min\", fontsize=fontsize)\n",
    "ax.set_xticks([0, 1])\n",
    "ax.set_xticklabels([\"1\", \"10\"], fontsize=fontsize)\n",
    "# setting of y axis\n",
    "ax.set_ylim(-5, 140)\n",
    "ax.set_yticks([0, 20, 40, 60, 80, 100, 120, 140])\n",
    "ax.set_yticklabels([\"0\", \"20\", \"40\", \"60\", \"80\", \"100\", \"120\", \"140\"], fontsize=fontsize)\n",
    "ax.set_ylabel(\"Area of puncta (pixels)\", fontsize=fontsize)\n",
    "# p value\n",
    "y=130\n",
    "ax.plot([0, 1], [y, y], lw=1, color='k')\n",
    "ax.text(0.5, y+3, f\"p = {pvalue:.3f}\", ha=\"center\", fontsize=fontsize-2)\n",
    "# \n",
    "ax.plot([-0.5, 1.5], [-14.5,-14.5], lw=1, color='k', clip_on=False)\n",
    "\n",
    "\n",
    "ax.legend().remove()\n",
    "fig.savefig(\"output.jpg\", bbox_inches=\"tight\")\n",
    "plt.show()"
   ]
  }
 ],
 "metadata": {
  "kernelspec": {
   "display_name": "Python 3 (ipykernel)",
   "language": "python",
   "name": "python3"
  },
  "language_info": {
   "codemirror_mode": {
    "name": "ipython",
    "version": 3
   },
   "file_extension": ".py",
   "mimetype": "text/x-python",
   "name": "python",
   "nbconvert_exporter": "python",
   "pygments_lexer": "ipython3",
   "version": "3.12.7"
  }
 },
 "nbformat": 4,
 "nbformat_minor": 5
}
