{
 "cells": [
  {
   "cell_type": "code",
   "execution_count": 2,
   "id": "d41c09b3-2436-4300-83bb-8cfd0f6846cd",
   "metadata": {},
   "outputs": [],
   "source": [
    "from glob import glob\n",
    "import os\n",
    "\n",
    "import pandas as pd"
   ]
  },
  {
   "cell_type": "code",
   "execution_count": 3,
   "id": "083e4568-8768-4239-a3eb-a53aefb78468",
   "metadata": {},
   "outputs": [
    {
     "name": "stdout",
     "output_type": "stream",
     "text": [
      "['yRL910_2_processed', 'yRL910_3_processed', 'yRL910_processed']\n"
     ]
    }
   ],
   "source": [
    "# Get all the processed data folders\n",
    "base_directory = './'\n",
    "folders = [f for f in os.listdir(base_directory) if (os.path.isdir(f)) & (f[-1]=='d')]\n",
    "print(folders)"
   ]
  },
  {
   "cell_type": "code",
   "execution_count": 6,
   "id": "783fde86-82ef-4049-851b-827258a889b1",
   "metadata": {},
   "outputs": [
    {
     "name": "stdout",
     "output_type": "stream",
     "text": [
      "Combined CSV saved\n",
      "Combined CSV saved\n",
      "Combined CSV saved\n"
     ]
    }
   ],
   "source": [
    "# concatenate all the csv files in each folder\n",
    "for folder in folders:\n",
    "    csv_files = glob(f\"{os.path.join(base_directory, folder)}/*.csv\")\n",
    "    dataframes = []\n",
    "    file_name = \"_\".join(folder.split(\"_\")[0:-1])\n",
    "    new_path = f\"{os.path.join(base_directory, file_name)}_join.csv\"\n",
    "    for csv_file in csv_files:\n",
    "        df = pd.read_csv(csv_file)\n",
    "        dataframes.append(df)\n",
    "    combined_df = pd.concat(dataframes, ignore_index=True)\n",
    "    combined_df.to_csv(new_path, index=False)\n",
    "    print(\"Combined CSV saved\")"
   ]
  },
  {
   "cell_type": "code",
   "execution_count": null,
   "id": "ed95eba8-e5b4-46b7-8bea-ca6b1f32234d",
   "metadata": {},
   "outputs": [],
   "source": []
  }
 ],
 "metadata": {
  "kernelspec": {
   "display_name": "Python 3 (ipykernel)",
   "language": "python",
   "name": "python3"
  },
  "language_info": {
   "codemirror_mode": {
    "name": "ipython",
    "version": 3
   },
   "file_extension": ".py",
   "mimetype": "text/x-python",
   "name": "python",
   "nbconvert_exporter": "python",
   "pygments_lexer": "ipython3",
   "version": "3.8.20"
  }
 },
 "nbformat": 4,
 "nbformat_minor": 5
}
