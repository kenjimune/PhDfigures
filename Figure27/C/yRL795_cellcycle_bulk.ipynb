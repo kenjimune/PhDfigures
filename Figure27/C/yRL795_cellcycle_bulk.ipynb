{
 "cells": [
  {
   "cell_type": "code",
   "execution_count": 1,
   "id": "4a7b6e6d-29e1-4b3c-b430-b80cfae47013",
   "metadata": {},
   "outputs": [],
   "source": [
    "from glob import glob\n",
    "import os\n",
    "\n",
    "import pandas as pd\n",
    "\n",
    "import myfunc"
   ]
  },
  {
   "cell_type": "code",
   "execution_count": 2,
   "id": "9ee37511-7b99-40ac-8b4b-0554c1ff0ff5",
   "metadata": {},
   "outputs": [
    {
     "name": "stdout",
     "output_type": "stream",
     "text": [
      "yRL795_processed/\n",
      "yRL795_2_processed/\n",
      "yRL795_2_processed_processed/\n",
      "yRL795_3_processed/\n",
      "yRL795_3_processed_processed/\n",
      "yRL795_processed_processed/\n",
      "__pycache___processed/\n"
     ]
    }
   ],
   "source": [
    "# make directory for processed csv files\n",
    "base_directory = './'\n",
    "\n",
    "# get all folders in base_directory\n",
    "folders = [f for f in os.listdir(base_directory) if os.path.isdir(f)]\n",
    "for folder in folders:\n",
    "    # do not process for ipynb folder\n",
    "    if folder=='.ipynb_checkpoints':\n",
    "        pass\n",
    "    else:\n",
    "        newname = f\"{folder}_processed/\"\n",
    "        print(newname)\n",
    "        # only run the following code for the first time\n",
    "        # os.makedirs(newname)"
   ]
  },
  {
   "cell_type": "code",
   "execution_count": 4,
   "id": "18fce495-17e5-4823-a8ff-e28048083c2b",
   "metadata": {},
   "outputs": [
    {
     "name": "stdout",
     "output_type": "stream",
     "text": [
      "Kenji 10_cp_masks.csv processed\n",
      "Kenji 11_cp_masks.csv processed\n",
      "Kenji 12_cp_masks.csv processed\n",
      "Kenji 13_cp_masks.csv processed\n",
      "Kenji 14_cp_masks.csv processed\n",
      "Kenji 15_cp_masks.csv processed\n",
      "Kenji 1_cp_masks.csv processed\n",
      "Kenji 2_cp_masks.csv processed\n",
      "Kenji 3_cp_masks.csv processed\n",
      "Kenji 4_cp_masks.csv processed\n",
      "Kenji 5_cp_masks.csv processed\n",
      "Kenji 6_cp_masks.csv processed\n",
      "Kenji 7_cp_masks.csv processed\n",
      "Kenji 8_cp_masks.csv processed\n",
      "Kenji 9_cp_masks.csv processed\n",
      "Kenji 16_cp_masks.csv processed\n",
      "Kenji 17_cp_masks.csv processed\n",
      "Kenji 18_cp_masks.csv processed\n",
      "Kenji 19_cp_masks.csv processed\n",
      "Kenji 20_cp_masks.csv processed\n",
      "Kenji 21_cp_masks.csv processed\n",
      "Kenji 22_cp_masks.csv processed\n",
      "Kenji 23_cp_masks.csv processed\n",
      "Kenji 24_cp_masks.csv processed\n",
      "Kenji 25_cp_masks.csv processed\n",
      "Kenji 26_cp_masks.csv processed\n",
      "Kenji 27_cp_masks.csv processed\n",
      "Kenji 28_cp_masks.csv processed\n",
      "Kenji 29_cp_masks.csv processed\n",
      "Kenji 30_cp_masks.csv processed\n",
      "Kenji 31_cp_masks.csv processed\n",
      "Kenji 32_cp_masks.csv processed\n",
      "Kenji 33_cp_masks.csv processed\n",
      "Kenji 34_cp_masks.csv processed\n",
      "Kenji 35_cp_masks.csv processed\n",
      "Kenji 36_cp_masks.csv processed\n",
      "Kenji 37_cp_masks.csv processed\n"
     ]
    }
   ],
   "source": [
    "csv_files = glob('./*/*.csv', recursive=True)\n",
    "for csv_file in csv_files:\n",
    "    df = pd.read_csv(csv_file)\n",
    "    file_name = os.path.basename(csv_file)\n",
    "    folder_name = os.path.dirname(csv_file)\n",
    "    # only dealing with files that are not already processed\n",
    "    if folder_name[-1]!='d':\n",
    "        # handle NaN values\n",
    "        df['SE'] = df['SE'].fillna(0)\n",
    "        df['reference'] = df['reference'].fillna('-')\n",
    "        # change - to 1 in Perim. column\n",
    "        df['Perim.'] = df['Perim.'].apply(myfunc.dash_to_1)\n",
    "        # df.set_index(' ', inplace=True)\n",
    "        # get the perimeter of the reference, calculate the ratio and classify\n",
    "        df['ref_peri'] = df['reference'].apply(lambda number: '-' if number == '-' else df['Perim.'].iloc[int(number) - 1])\n",
    "        df['ratio'] = df.apply(myfunc.md_ratio, axis=1)\n",
    "        df['5class'] = df.apply(myfunc.classification_50, axis=1)\n",
    "        # save the processed file to processed folder\n",
    "        new_path = f\"{folder_name}_processed\"\n",
    "        output_file = os.path.join(new_path, file_name)\n",
    "        df.to_csv(output_file, index=False)\n",
    "        print(f\"{file_name} processed\")"
   ]
  },
  {
   "cell_type": "code",
   "execution_count": null,
   "id": "cf5d81f1",
   "metadata": {},
   "outputs": [],
   "source": []
  }
 ],
 "metadata": {
  "kernelspec": {
   "display_name": "Python 3 (ipykernel)",
   "language": "python",
   "name": "python3"
  },
  "language_info": {
   "codemirror_mode": {
    "name": "ipython",
    "version": 3
   },
   "file_extension": ".py",
   "mimetype": "text/x-python",
   "name": "python",
   "nbconvert_exporter": "python",
   "pygments_lexer": "ipython3",
   "version": "3.8.20"
  }
 },
 "nbformat": 4,
 "nbformat_minor": 5
}
