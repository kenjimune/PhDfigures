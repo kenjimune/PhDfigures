{
 "cells": [
  {
   "cell_type": "code",
   "execution_count": 1,
   "id": "d4b28a72-69e1-4971-b8fe-87c0a27264d5",
   "metadata": {},
   "outputs": [],
   "source": [
    "import numpy as np\n",
    "import seaborn as sns\n",
    "from scipy import stats\n",
    "import matplotlib.pyplot as plt\n",
    "%matplotlib inline\n",
    "import pandas as pd"
   ]
  },
  {
   "cell_type": "code",
   "execution_count": 2,
   "id": "7e5ad830-c62a-4282-8cd4-e9eb1d92c67e",
   "metadata": {},
   "outputs": [
    {
     "data": {
      "text/html": [
       "<div>\n",
       "<style scoped>\n",
       "    .dataframe tbody tr th:only-of-type {\n",
       "        vertical-align: middle;\n",
       "    }\n",
       "\n",
       "    .dataframe tbody tr th {\n",
       "        vertical-align: top;\n",
       "    }\n",
       "\n",
       "    .dataframe thead th {\n",
       "        text-align: right;\n",
       "    }\n",
       "</style>\n",
       "<table border=\"1\" class=\"dataframe\">\n",
       "  <thead>\n",
       "    <tr style=\"text-align: right;\">\n",
       "      <th></th>\n",
       "      <th>data</th>\n",
       "      <th>strain</th>\n",
       "      <th>number</th>\n",
       "      <th>dots</th>\n",
       "      <th>cells</th>\n",
       "      <th>0</th>\n",
       "      <th>1</th>\n",
       "      <th>2</th>\n",
       "      <th>3</th>\n",
       "    </tr>\n",
       "  </thead>\n",
       "  <tbody>\n",
       "    <tr>\n",
       "      <th>0</th>\n",
       "      <td>1307</td>\n",
       "      <td>795</td>\n",
       "      <td>1</td>\n",
       "      <td>15</td>\n",
       "      <td>72</td>\n",
       "      <td>57</td>\n",
       "      <td>12</td>\n",
       "      <td>3</td>\n",
       "      <td>0</td>\n",
       "    </tr>\n",
       "    <tr>\n",
       "      <th>1</th>\n",
       "      <td>1307</td>\n",
       "      <td>795</td>\n",
       "      <td>1</td>\n",
       "      <td>9</td>\n",
       "      <td>54</td>\n",
       "      <td>45</td>\n",
       "      <td>8</td>\n",
       "      <td>1</td>\n",
       "      <td>0</td>\n",
       "    </tr>\n",
       "    <tr>\n",
       "      <th>2</th>\n",
       "      <td>1307</td>\n",
       "      <td>795</td>\n",
       "      <td>1</td>\n",
       "      <td>10</td>\n",
       "      <td>55</td>\n",
       "      <td>45</td>\n",
       "      <td>10</td>\n",
       "      <td>0</td>\n",
       "      <td>0</td>\n",
       "    </tr>\n",
       "    <tr>\n",
       "      <th>3</th>\n",
       "      <td>1307</td>\n",
       "      <td>795</td>\n",
       "      <td>1</td>\n",
       "      <td>10</td>\n",
       "      <td>57</td>\n",
       "      <td>47</td>\n",
       "      <td>8</td>\n",
       "      <td>1</td>\n",
       "      <td>1</td>\n",
       "    </tr>\n",
       "    <tr>\n",
       "      <th>4</th>\n",
       "      <td>1307</td>\n",
       "      <td>795</td>\n",
       "      <td>1</td>\n",
       "      <td>9</td>\n",
       "      <td>51</td>\n",
       "      <td>42</td>\n",
       "      <td>9</td>\n",
       "      <td>0</td>\n",
       "      <td>0</td>\n",
       "    </tr>\n",
       "  </tbody>\n",
       "</table>\n",
       "</div>"
      ],
      "text/plain": [
       "   data  strain  number  dots  cells   0   1  2  3\n",
       "0  1307     795       1    15     72  57  12  3  0\n",
       "1  1307     795       1     9     54  45   8  1  0\n",
       "2  1307     795       1    10     55  45  10  0  0\n",
       "3  1307     795       1    10     57  47   8  1  1\n",
       "4  1307     795       1     9     51  42   9  0  0"
      ]
     },
     "execution_count": 2,
     "metadata": {},
     "output_type": "execute_result"
    }
   ],
   "source": [
    "df = pd.read_csv(\"1307.csv\")\n",
    "df.head()"
   ]
  },
  {
   "cell_type": "code",
   "execution_count": 3,
   "id": "7f6396a8-879b-4508-91bc-9004b067d072",
   "metadata": {},
   "outputs": [],
   "source": [
    "df['per_1'] = df['1'] / df['dots'] * 100\n",
    "df['per_2'] = df['2'] / df['dots'] * 100\n",
    "df['per_3'] = df['3'] / df['dots'] * 100"
   ]
  },
  {
   "cell_type": "code",
   "execution_count": 4,
   "id": "7724f4d7-41b1-4f81-bfbb-e130622fdc11",
   "metadata": {},
   "outputs": [
    {
     "ename": "NameError",
     "evalue": "name 'df_number' is not defined",
     "output_type": "error",
     "traceback": [
      "\u001b[1;31m---------------------------------------------------------------------------\u001b[0m",
      "\u001b[1;31mNameError\u001b[0m                                 Traceback (most recent call last)",
      "Cell \u001b[1;32mIn[4], line 1\u001b[0m\n\u001b[1;32m----> 1\u001b[0m df_number\n",
      "\u001b[1;31mNameError\u001b[0m: name 'df_number' is not defined"
     ]
    }
   ],
   "source": [
    "df_number"
   ]
  },
  {
   "cell_type": "code",
   "execution_count": 5,
   "id": "e8914e57-c514-4759-826c-9481bde12747",
   "metadata": {},
   "outputs": [
    {
     "data": {
      "text/plain": [
       "array([90.24579125,  8.32996633,  1.42424242])"
      ]
     },
     "execution_count": 5,
     "metadata": {},
     "output_type": "execute_result"
    }
   ],
   "source": [
    "df_number = df.groupby([\"strain\", \"number\"], as_index=False).mean()\n",
    "df_number = df_number[df_number['strain']==795]\n",
    "SE_mean = df_number.groupby('strain')[['per_1', 'per_2', 'per_3']].mean().values\n",
    "SE_mean[0]"
   ]
  },
  {
   "cell_type": "code",
   "execution_count": 6,
   "id": "b66a87f0-9a97-483f-a87d-db05740f620d",
   "metadata": {},
   "outputs": [
    {
     "data": {
      "text/plain": [
       "array([[1.57746533, 2.21674665, 0.71646003]])"
      ]
     },
     "execution_count": 6,
     "metadata": {},
     "output_type": "execute_result"
    }
   ],
   "source": [
    "SE_sem = df_number.groupby('strain')[['per_1', 'per_2', 'per_3']].std().values / np.sqrt(3)\n",
    "SE_sem"
   ]
  },
  {
   "cell_type": "code",
   "execution_count": 7,
   "id": "4e74bfc5-8fdd-41d2-ba77-3559f97dde1a",
   "metadata": {},
   "outputs": [
    {
     "data": {
      "text/plain": [
       "array([[1.57746533, 2.21674665, 0.71646003]])"
      ]
     },
     "execution_count": 7,
     "metadata": {},
     "output_type": "execute_result"
    }
   ],
   "source": [
    "SE_sem = df_number.groupby('strain')[['per_1', 'per_2', 'per_3']].std().values / np.sqrt(3)\n",
    "SE_sem"
   ]
  },
  {
   "cell_type": "code",
   "execution_count": 8,
   "id": "e8338a57-0860-414e-a463-9e15de89c686",
   "metadata": {},
   "outputs": [
    {
     "data": {
      "text/html": [
       "<div>\n",
       "<style scoped>\n",
       "    .dataframe tbody tr th:only-of-type {\n",
       "        vertical-align: middle;\n",
       "    }\n",
       "\n",
       "    .dataframe tbody tr th {\n",
       "        vertical-align: top;\n",
       "    }\n",
       "\n",
       "    .dataframe thead th {\n",
       "        text-align: right;\n",
       "    }\n",
       "</style>\n",
       "<table border=\"1\" class=\"dataframe\">\n",
       "  <thead>\n",
       "    <tr style=\"text-align: right;\">\n",
       "      <th></th>\n",
       "      <th>per_1</th>\n",
       "      <th>per_2</th>\n",
       "      <th>per_3</th>\n",
       "    </tr>\n",
       "  </thead>\n",
       "  <tbody>\n",
       "    <tr>\n",
       "      <th>0</th>\n",
       "      <td>89.777778</td>\n",
       "      <td>8.222222</td>\n",
       "      <td>2.000000</td>\n",
       "    </tr>\n",
       "    <tr>\n",
       "      <th>1</th>\n",
       "      <td>93.181818</td>\n",
       "      <td>4.545455</td>\n",
       "      <td>2.272727</td>\n",
       "    </tr>\n",
       "    <tr>\n",
       "      <th>2</th>\n",
       "      <td>87.777778</td>\n",
       "      <td>12.222222</td>\n",
       "      <td>0.000000</td>\n",
       "    </tr>\n",
       "  </tbody>\n",
       "</table>\n",
       "</div>"
      ],
      "text/plain": [
       "       per_1      per_2     per_3\n",
       "0  89.777778   8.222222  2.000000\n",
       "1  93.181818   4.545455  2.272727\n",
       "2  87.777778  12.222222  0.000000"
      ]
     },
     "execution_count": 8,
     "metadata": {},
     "output_type": "execute_result"
    }
   ],
   "source": [
    "df_number = df_number[['per_1', 'per_2', 'per_3']]\n",
    "df_number"
   ]
  },
  {
   "cell_type": "code",
   "execution_count": 16,
   "id": "a438d325-a9ec-4312-a059-aa880355b4a5",
   "metadata": {},
   "outputs": [
    {
     "data": {
      "image/png": "[encoded data removed]",
      "text/plain": [
       "<Figure size 300x200 with 1 Axes>"
      ]
     },
     "metadata": {},
     "output_type": "display_data"
    }
   ],
   "source": [
    "colors = ['#1f77b4', '#ff7f0e', '#2ca02c']\n",
    "fontsize = 15\n",
    "\n",
    "fig, ax = plt.subplots(figsize = (3, 2), dpi=100)\n",
    "for idx, column in enumerate(df_number.columns):\n",
    "    y = df_number[column].values\n",
    "    x = [idx + 0.1*x for x in range(-1, 2)]\n",
    "    ax.scatter(x, y, s=30, c=colors)\n",
    "\n",
    "ax.errorbar(x=list(range(len(df_number))), y=SE_mean[0], yerr=SE_sem,\n",
    "            capsize=5, fmt='_', ecolor='k', ms=20, mfc='None', mec='k')\n",
    "\n",
    "ax.spines['right'].set_visible(False)\n",
    "ax.spines['top'].set_visible(False)\n",
    "\n",
    "ax.set_xlim(-0.5, 2.5)\n",
    "ax.set_xticks([0, 1, 2])\n",
    "ax.set_xticklabels([\"1\", \"2\", \">2\"], fontsize=fontsize)\n",
    "ax.set_xlabel(\"Puncta / cell\", fontsize=fontsize)\n",
    "\n",
    "ax.set_ylim(-10, 110)\n",
    "ax.set_yticks([0, 20, 40, 60, 80, 100])\n",
    "ax.set_yticklabels([\"0\", \"20\", \"40\", \"60\", \"80\", \"100\"], fontsize=fontsize)\n",
    "ax.set_ylabel(\"% among puncta\\nhaving cells\", fontsize=fontsize)\n",
    "\n",
    "fig.savefig(\"output.jpg\", bbox_inches=\"tight\")\n",
    "plt.show()"
   ]
  }
 ],
 "metadata": {
  "kernelspec": {
   "display_name": "Python 3 (ipykernel)",
   "language": "python",
   "name": "python3"
  },
  "language_info": {
   "codemirror_mode": {
    "name": "ipython",
    "version": 3
   },
   "file_extension": ".py",
   "mimetype": "text/x-python",
   "name": "python",
   "nbconvert_exporter": "python",
   "pygments_lexer": "ipython3",
   "version": "3.12.7"
  }
 },
 "nbformat": 4,
 "nbformat_minor": 5
}
