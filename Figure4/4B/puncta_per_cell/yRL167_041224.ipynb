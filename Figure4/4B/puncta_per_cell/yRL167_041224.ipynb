{
 "cells": [
  {
   "cell_type": "code",
   "execution_count": 1,
   "id": "4390b7e3-be5f-4105-a21e-07dc6ac03858",
   "metadata": {},
   "outputs": [],
   "source": [
    "import numpy as np\n",
    "import seaborn as sns\n",
    "from scipy import stats\n",
    "import matplotlib.pyplot as plt\n",
    "%matplotlib inline\n",
    "import pandas as pd"
   ]
  },
  {
   "cell_type": "code",
   "execution_count": 2,
   "id": "e6a3d4ab",
   "metadata": {},
   "outputs": [
    {
     "data": {
      "text/html": [
       "<div>\n",
       "<style scoped>\n",
       "    .dataframe tbody tr th:only-of-type {\n",
       "        vertical-align: middle;\n",
       "    }\n",
       "\n",
       "    .dataframe tbody tr th {\n",
       "        vertical-align: top;\n",
       "    }\n",
       "\n",
       "    .dataframe thead th {\n",
       "        text-align: right;\n",
       "    }\n",
       "</style>\n",
       "<table border=\"1\" class=\"dataframe\">\n",
       "  <thead>\n",
       "    <tr style=\"text-align: right;\">\n",
       "      <th></th>\n",
       "      <th>strain</th>\n",
       "      <th>number</th>\n",
       "      <th>dots</th>\n",
       "      <th>cells</th>\n",
       "      <th>0</th>\n",
       "      <th>1</th>\n",
       "      <th>2</th>\n",
       "      <th>3</th>\n",
       "    </tr>\n",
       "  </thead>\n",
       "  <tbody>\n",
       "    <tr>\n",
       "      <th>0</th>\n",
       "      <td>167</td>\n",
       "      <td>1</td>\n",
       "      <td>4</td>\n",
       "      <td>49</td>\n",
       "      <td>45</td>\n",
       "      <td>4</td>\n",
       "      <td>0</td>\n",
       "      <td>0</td>\n",
       "    </tr>\n",
       "    <tr>\n",
       "      <th>1</th>\n",
       "      <td>167</td>\n",
       "      <td>1</td>\n",
       "      <td>3</td>\n",
       "      <td>47</td>\n",
       "      <td>44</td>\n",
       "      <td>3</td>\n",
       "      <td>0</td>\n",
       "      <td>0</td>\n",
       "    </tr>\n",
       "    <tr>\n",
       "      <th>2</th>\n",
       "      <td>167</td>\n",
       "      <td>1</td>\n",
       "      <td>3</td>\n",
       "      <td>31</td>\n",
       "      <td>28</td>\n",
       "      <td>3</td>\n",
       "      <td>0</td>\n",
       "      <td>0</td>\n",
       "    </tr>\n",
       "    <tr>\n",
       "      <th>3</th>\n",
       "      <td>167</td>\n",
       "      <td>1</td>\n",
       "      <td>5</td>\n",
       "      <td>36</td>\n",
       "      <td>31</td>\n",
       "      <td>5</td>\n",
       "      <td>0</td>\n",
       "      <td>0</td>\n",
       "    </tr>\n",
       "    <tr>\n",
       "      <th>4</th>\n",
       "      <td>167</td>\n",
       "      <td>2</td>\n",
       "      <td>11</td>\n",
       "      <td>82</td>\n",
       "      <td>71</td>\n",
       "      <td>8</td>\n",
       "      <td>2</td>\n",
       "      <td>1</td>\n",
       "    </tr>\n",
       "  </tbody>\n",
       "</table>\n",
       "</div>"
      ],
      "text/plain": [
       "   strain  number  dots  cells   0  1  2  3\n",
       "0     167       1     4     49  45  4  0  0\n",
       "1     167       1     3     47  44  3  0  0\n",
       "2     167       1     3     31  28  3  0  0\n",
       "3     167       1     5     36  31  5  0  0\n",
       "4     167       2    11     82  71  8  2  1"
      ]
     },
     "execution_count": 2,
     "metadata": {},
     "output_type": "execute_result"
    }
   ],
   "source": [
    "df = pd.read_csv(\"3008.csv\")\n",
    "df.head()"
   ]
  },
  {
   "cell_type": "code",
   "execution_count": 3,
   "id": "d526487d-7520-44df-b854-e9e0226ba0cc",
   "metadata": {},
   "outputs": [],
   "source": [
    "# df['per_0'] = df['0'] / df['dots'] * 100\n",
    "df['per_1'] = df['1'] / df['dots'] * 100\n",
    "df['per_2'] = df['2'] / df['dots'] * 100\n",
    "df['per_3'] = df['3'] / df['dots'] * 100"
   ]
  },
  {
   "cell_type": "code",
   "execution_count": 4,
   "id": "3efb9c83-84ea-4bcd-895b-fe4d8a0b9a9a",
   "metadata": {},
   "outputs": [
    {
     "data": {
      "text/plain": [
       "array([88.28362995,  8.19304153,  3.52332852])"
      ]
     },
     "execution_count": 4,
     "metadata": {},
     "output_type": "execute_result"
    }
   ],
   "source": [
    "df_number = df.groupby([\"strain\", \"number\"], as_index=False).mean()\n",
    "df_number = df_number[df_number['strain']==167]\n",
    "SE_mean = df_number.groupby('strain')[['per_1', 'per_2', 'per_3']].mean().values\n",
    "SE_mean[0]"
   ]
  },
  {
   "cell_type": "code",
   "execution_count": 5,
   "id": "008afd21-044e-40e4-a1c6-d756d819ba73",
   "metadata": {},
   "outputs": [
    {
     "data": {
      "text/plain": [
       "array([[5.90166831, 4.11729565, 1.78736342]])"
      ]
     },
     "execution_count": 5,
     "metadata": {},
     "output_type": "execute_result"
    }
   ],
   "source": [
    "SE_sem = df_number.groupby('strain')[['per_1', 'per_2', 'per_3']].std().values / np.sqrt(3)\n",
    "SE_sem"
   ]
  },
  {
   "cell_type": "code",
   "execution_count": 6,
   "id": "870c44dd-3334-4486-ac13-8f5c00b1db8b",
   "metadata": {},
   "outputs": [
    {
     "data": {
      "text/html": [
       "<div>\n",
       "<style scoped>\n",
       "    .dataframe tbody tr th:only-of-type {\n",
       "        vertical-align: middle;\n",
       "    }\n",
       "\n",
       "    .dataframe tbody tr th {\n",
       "        vertical-align: top;\n",
       "    }\n",
       "\n",
       "    .dataframe thead th {\n",
       "        text-align: right;\n",
       "    }\n",
       "</style>\n",
       "<table border=\"1\" class=\"dataframe\">\n",
       "  <thead>\n",
       "    <tr style=\"text-align: right;\">\n",
       "      <th></th>\n",
       "      <th>per_1</th>\n",
       "      <th>per_2</th>\n",
       "      <th>per_3</th>\n",
       "    </tr>\n",
       "  </thead>\n",
       "  <tbody>\n",
       "    <tr>\n",
       "      <th>0</th>\n",
       "      <td>100.000000</td>\n",
       "      <td>0.000000</td>\n",
       "      <td>0.000000</td>\n",
       "    </tr>\n",
       "    <tr>\n",
       "      <th>1</th>\n",
       "      <td>81.186869</td>\n",
       "      <td>13.005051</td>\n",
       "      <td>5.808081</td>\n",
       "    </tr>\n",
       "    <tr>\n",
       "      <th>2</th>\n",
       "      <td>83.664021</td>\n",
       "      <td>11.574074</td>\n",
       "      <td>4.761905</td>\n",
       "    </tr>\n",
       "  </tbody>\n",
       "</table>\n",
       "</div>"
      ],
      "text/plain": [
       "        per_1      per_2     per_3\n",
       "0  100.000000   0.000000  0.000000\n",
       "1   81.186869  13.005051  5.808081\n",
       "2   83.664021  11.574074  4.761905"
      ]
     },
     "execution_count": 6,
     "metadata": {},
     "output_type": "execute_result"
    }
   ],
   "source": [
    "df_number = df_number[['per_1', 'per_2', 'per_3']]\n",
    "df_number"
   ]
  },
  {
   "cell_type": "code",
   "execution_count": 7,
   "id": "fea8b588-e0b6-41cf-9b5c-5f6426e228da",
   "metadata": {},
   "outputs": [
    {
     "data": {
      "image/png": "[encoded data removed]",
      "text/plain": [
       "<Figure size 300x200 with 1 Axes>"
      ]
     },
     "metadata": {},
     "output_type": "display_data"
    }
   ],
   "source": [
    "colors = ['#1f77b4', '#ff7f0e', '#2ca02c']\n",
    "fontsize = 15\n",
    "\n",
    "fig, ax = plt.subplots(figsize = (3, 2), dpi=100)\n",
    "for idx, column in enumerate(df_number.columns):\n",
    "    y = df_number[column].values\n",
    "    x = [idx + 0.1*x for x in range(-1, 2)]\n",
    "    ax.scatter(x, y, s=30, c=colors)\n",
    "\n",
    "ax.errorbar(x=list(range(len(df_number))), y=SE_mean[0], yerr=SE_sem,\n",
    "            capsize=5, fmt='_', ecolor='k', ms=20, mfc='None', mec='k')\n",
    "\n",
    "ax.spines['right'].set_visible(False)\n",
    "ax.spines['top'].set_visible(False)\n",
    "\n",
    "ax.set_xlim(-0.5, 2.5)\n",
    "ax.set_xticks([0, 1, 2])\n",
    "ax.set_xticklabels([\"1\", \"2\", \">2\"], fontsize=fontsize)\n",
    "ax.set_xlabel(\"Puncta / cell\", fontsize=fontsize)\n",
    "\n",
    "ax.set_ylim(-10, 110)\n",
    "ax.set_yticks([0, 20, 40, 60, 80, 100])\n",
    "ax.set_yticklabels([\"0\", \"20\", \"40\", \"60\", \"80\", \"100\"], fontsize=fontsize)\n",
    "ax.set_ylabel(\"% among puncta\\nhaving cells\", fontsize=fontsize)\n",
    "\n",
    "fig.savefig(\"output.jpg\", bbox_inches=\"tight\")\n",
    "plt.show()"
   ]
  }
 ],
 "metadata": {
  "kernelspec": {
   "display_name": "Python 3 (ipykernel)",
   "language": "python",
   "name": "python3"
  },
  "language_info": {
   "codemirror_mode": {
    "name": "ipython",
    "version": 3
   },
   "file_extension": ".py",
   "mimetype": "text/x-python",
   "name": "python",
   "nbconvert_exporter": "python",
   "pygments_lexer": "ipython3",
   "version": "3.12.7"
  }
 },
 "nbformat": 4,
 "nbformat_minor": 5
}
