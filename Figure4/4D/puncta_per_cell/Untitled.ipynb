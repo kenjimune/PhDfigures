{
 "cells": [
  {
   "cell_type": "code",
   "execution_count": 1,
   "id": "90f17b82-90b8-474f-aa72-659fc7a3dfd3",
   "metadata": {},
   "outputs": [],
   "source": [
    "import numpy as np\n",
    "import seaborn as sns\n",
    "from scipy import stats\n",
    "import matplotlib.pyplot as plt\n",
    "%matplotlib inline\n",
    "import pandas as pd"
   ]
  },
  {
   "cell_type": "code",
   "execution_count": 2,
   "id": "417459af-c364-4e18-9573-dbb7bca69353",
   "metadata": {},
   "outputs": [
    {
     "data": {
      "text/html": [
       "<div>\n",
       "<style scoped>\n",
       "    .dataframe tbody tr th:only-of-type {\n",
       "        vertical-align: middle;\n",
       "    }\n",
       "\n",
       "    .dataframe tbody tr th {\n",
       "        vertical-align: top;\n",
       "    }\n",
       "\n",
       "    .dataframe thead th {\n",
       "        text-align: right;\n",
       "    }\n",
       "</style>\n",
       "<table border=\"1\" class=\"dataframe\">\n",
       "  <thead>\n",
       "    <tr style=\"text-align: right;\">\n",
       "      <th></th>\n",
       "      <th>Unnamed: 0</th>\n",
       "      <th>strain</th>\n",
       "      <th>number</th>\n",
       "      <th>dots</th>\n",
       "      <th>cells</th>\n",
       "      <th>0</th>\n",
       "      <th>1</th>\n",
       "      <th>2</th>\n",
       "      <th>3</th>\n",
       "      <th>4</th>\n",
       "    </tr>\n",
       "  </thead>\n",
       "  <tbody>\n",
       "    <tr>\n",
       "      <th>0</th>\n",
       "      <td>1</td>\n",
       "      <td>yRL255</td>\n",
       "      <td>1</td>\n",
       "      <td>16</td>\n",
       "      <td>70</td>\n",
       "      <td>54</td>\n",
       "      <td>13</td>\n",
       "      <td>3</td>\n",
       "      <td>0</td>\n",
       "      <td>0</td>\n",
       "    </tr>\n",
       "    <tr>\n",
       "      <th>1</th>\n",
       "      <td>2</td>\n",
       "      <td>yRL255</td>\n",
       "      <td>1</td>\n",
       "      <td>10</td>\n",
       "      <td>68</td>\n",
       "      <td>58</td>\n",
       "      <td>10</td>\n",
       "      <td>0</td>\n",
       "      <td>0</td>\n",
       "      <td>0</td>\n",
       "    </tr>\n",
       "    <tr>\n",
       "      <th>2</th>\n",
       "      <td>3</td>\n",
       "      <td>yRL255</td>\n",
       "      <td>1</td>\n",
       "      <td>11</td>\n",
       "      <td>71</td>\n",
       "      <td>60</td>\n",
       "      <td>11</td>\n",
       "      <td>0</td>\n",
       "      <td>0</td>\n",
       "      <td>0</td>\n",
       "    </tr>\n",
       "    <tr>\n",
       "      <th>3</th>\n",
       "      <td>4</td>\n",
       "      <td>yRL255</td>\n",
       "      <td>1</td>\n",
       "      <td>11</td>\n",
       "      <td>64</td>\n",
       "      <td>53</td>\n",
       "      <td>11</td>\n",
       "      <td>0</td>\n",
       "      <td>0</td>\n",
       "      <td>0</td>\n",
       "    </tr>\n",
       "    <tr>\n",
       "      <th>4</th>\n",
       "      <td>5</td>\n",
       "      <td>yRL255</td>\n",
       "      <td>2</td>\n",
       "      <td>4</td>\n",
       "      <td>59</td>\n",
       "      <td>55</td>\n",
       "      <td>4</td>\n",
       "      <td>0</td>\n",
       "      <td>0</td>\n",
       "      <td>0</td>\n",
       "    </tr>\n",
       "  </tbody>\n",
       "</table>\n",
       "</div>"
      ],
      "text/plain": [
       "   Unnamed: 0  strain  number  dots  cells   0   1  2  3  4\n",
       "0           1  yRL255       1    16     70  54  13  3  0  0\n",
       "1           2  yRL255       1    10     68  58  10  0  0  0\n",
       "2           3  yRL255       1    11     71  60  11  0  0  0\n",
       "3           4  yRL255       1    11     64  53  11  0  0  0\n",
       "4           5  yRL255       2     4     59  55   4  0  0  0"
      ]
     },
     "execution_count": 2,
     "metadata": {},
     "output_type": "execute_result"
    }
   ],
   "source": [
    "df = pd.read_csv(\"0109.csv\")\n",
    "df.head()"
   ]
  },
  {
   "cell_type": "code",
   "execution_count": 3,
   "id": "dc278c34-e87c-4773-a35f-a440bdb1c216",
   "metadata": {},
   "outputs": [],
   "source": [
    "df['per_1'] = df['1'] / df['dots'] * 100\n",
    "df['per_2'] = df['2'] / df['dots'] * 100\n",
    "df['per_3'] = df['3'] / df['dots'] * 100"
   ]
  },
  {
   "cell_type": "code",
   "execution_count": 4,
   "id": "6c6970d8-7e11-416f-b45a-0950b2ca27e3",
   "metadata": {},
   "outputs": [
    {
     "data": {
      "text/html": [
       "<div>\n",
       "<style scoped>\n",
       "    .dataframe tbody tr th:only-of-type {\n",
       "        vertical-align: middle;\n",
       "    }\n",
       "\n",
       "    .dataframe tbody tr th {\n",
       "        vertical-align: top;\n",
       "    }\n",
       "\n",
       "    .dataframe thead th {\n",
       "        text-align: right;\n",
       "    }\n",
       "</style>\n",
       "<table border=\"1\" class=\"dataframe\">\n",
       "  <thead>\n",
       "    <tr style=\"text-align: right;\">\n",
       "      <th></th>\n",
       "      <th>strain</th>\n",
       "      <th>number</th>\n",
       "      <th>Unnamed: 0</th>\n",
       "      <th>dots</th>\n",
       "      <th>cells</th>\n",
       "      <th>0</th>\n",
       "      <th>1</th>\n",
       "      <th>2</th>\n",
       "      <th>3</th>\n",
       "      <th>4</th>\n",
       "      <th>per_1</th>\n",
       "      <th>per_2</th>\n",
       "      <th>per_3</th>\n",
       "    </tr>\n",
       "  </thead>\n",
       "  <tbody>\n",
       "    <tr>\n",
       "      <th>0</th>\n",
       "      <td>yRL255</td>\n",
       "      <td>1</td>\n",
       "      <td>2.5</td>\n",
       "      <td>12.0</td>\n",
       "      <td>68.25</td>\n",
       "      <td>56.25</td>\n",
       "      <td>11.25</td>\n",
       "      <td>0.75</td>\n",
       "      <td>0.0</td>\n",
       "      <td>0.0</td>\n",
       "      <td>95.312500</td>\n",
       "      <td>4.687500</td>\n",
       "      <td>0.0</td>\n",
       "    </tr>\n",
       "    <tr>\n",
       "      <th>1</th>\n",
       "      <td>yRL255</td>\n",
       "      <td>2</td>\n",
       "      <td>6.5</td>\n",
       "      <td>5.0</td>\n",
       "      <td>46.00</td>\n",
       "      <td>41.00</td>\n",
       "      <td>5.00</td>\n",
       "      <td>0.00</td>\n",
       "      <td>0.0</td>\n",
       "      <td>0.0</td>\n",
       "      <td>100.000000</td>\n",
       "      <td>0.000000</td>\n",
       "      <td>0.0</td>\n",
       "    </tr>\n",
       "    <tr>\n",
       "      <th>2</th>\n",
       "      <td>yRL255</td>\n",
       "      <td>3</td>\n",
       "      <td>10.5</td>\n",
       "      <td>8.0</td>\n",
       "      <td>44.00</td>\n",
       "      <td>36.00</td>\n",
       "      <td>7.25</td>\n",
       "      <td>0.75</td>\n",
       "      <td>0.0</td>\n",
       "      <td>0.0</td>\n",
       "      <td>92.261905</td>\n",
       "      <td>7.738095</td>\n",
       "      <td>0.0</td>\n",
       "    </tr>\n",
       "  </tbody>\n",
       "</table>\n",
       "</div>"
      ],
      "text/plain": [
       "   strain  number  Unnamed: 0  dots  cells      0      1     2    3    4  \\\n",
       "0  yRL255       1         2.5  12.0  68.25  56.25  11.25  0.75  0.0  0.0   \n",
       "1  yRL255       2         6.5   5.0  46.00  41.00   5.00  0.00  0.0  0.0   \n",
       "2  yRL255       3        10.5   8.0  44.00  36.00   7.25  0.75  0.0  0.0   \n",
       "\n",
       "        per_1     per_2  per_3  \n",
       "0   95.312500  4.687500    0.0  \n",
       "1  100.000000  0.000000    0.0  \n",
       "2   92.261905  7.738095    0.0  "
      ]
     },
     "execution_count": 4,
     "metadata": {},
     "output_type": "execute_result"
    }
   ],
   "source": [
    "df_number = df.groupby([\"strain\", \"number\"], as_index=False).mean()\n",
    "df_number = df_number[df_number['strain']=='yRL255']\n",
    "SE_mean = df_number.groupby('strain')[['per_1', 'per_2', 'per_3']].mean().values\n",
    "df_number"
   ]
  },
  {
   "cell_type": "code",
   "execution_count": 5,
   "id": "9fc6951b-e683-46d6-ba09-31f535a8dc9a",
   "metadata": {},
   "outputs": [
    {
     "data": {
      "text/plain": [
       "array([95.85813492,  4.14186508,  0.        ])"
      ]
     },
     "execution_count": 5,
     "metadata": {},
     "output_type": "execute_result"
    }
   ],
   "source": [
    "SE_mean[0]"
   ]
  },
  {
   "cell_type": "code",
   "execution_count": 6,
   "id": "774033ab-0748-4c01-9b65-ed8409b0c910",
   "metadata": {},
   "outputs": [
    {
     "data": {
      "text/plain": [
       "array([[2.25039386, 2.25039386, 0.        ]])"
      ]
     },
     "execution_count": 6,
     "metadata": {},
     "output_type": "execute_result"
    }
   ],
   "source": [
    "SE_sem = df_number.groupby('strain')[['per_1', 'per_2', 'per_3']].std().values / np.sqrt(3)\n",
    "SE_sem"
   ]
  },
  {
   "cell_type": "code",
   "execution_count": 7,
   "id": "cb00bd98-5320-46fd-bf71-0e1899962b07",
   "metadata": {},
   "outputs": [
    {
     "data": {
      "text/html": [
       "<div>\n",
       "<style scoped>\n",
       "    .dataframe tbody tr th:only-of-type {\n",
       "        vertical-align: middle;\n",
       "    }\n",
       "\n",
       "    .dataframe tbody tr th {\n",
       "        vertical-align: top;\n",
       "    }\n",
       "\n",
       "    .dataframe thead th {\n",
       "        text-align: right;\n",
       "    }\n",
       "</style>\n",
       "<table border=\"1\" class=\"dataframe\">\n",
       "  <thead>\n",
       "    <tr style=\"text-align: right;\">\n",
       "      <th></th>\n",
       "      <th>per_1</th>\n",
       "      <th>per_2</th>\n",
       "      <th>per_3</th>\n",
       "    </tr>\n",
       "  </thead>\n",
       "  <tbody>\n",
       "    <tr>\n",
       "      <th>0</th>\n",
       "      <td>95.312500</td>\n",
       "      <td>4.687500</td>\n",
       "      <td>0.0</td>\n",
       "    </tr>\n",
       "    <tr>\n",
       "      <th>1</th>\n",
       "      <td>100.000000</td>\n",
       "      <td>0.000000</td>\n",
       "      <td>0.0</td>\n",
       "    </tr>\n",
       "    <tr>\n",
       "      <th>2</th>\n",
       "      <td>92.261905</td>\n",
       "      <td>7.738095</td>\n",
       "      <td>0.0</td>\n",
       "    </tr>\n",
       "  </tbody>\n",
       "</table>\n",
       "</div>"
      ],
      "text/plain": [
       "        per_1     per_2  per_3\n",
       "0   95.312500  4.687500    0.0\n",
       "1  100.000000  0.000000    0.0\n",
       "2   92.261905  7.738095    0.0"
      ]
     },
     "execution_count": 7,
     "metadata": {},
     "output_type": "execute_result"
    }
   ],
   "source": [
    "df_number = df_number[['per_1', 'per_2', 'per_3']]\n",
    "df_number"
   ]
  },
  {
   "cell_type": "code",
   "execution_count": 8,
   "id": "cc155c18-d994-4f24-953c-45bfa6a9a23f",
   "metadata": {},
   "outputs": [
    {
     "data": {
      "image/png": "[encoded data removed]",
      "text/plain": [
       "<Figure size 300x200 with 1 Axes>"
      ]
     },
     "metadata": {},
     "output_type": "display_data"
    }
   ],
   "source": [
    "colors = ['#1f77b4', '#ff7f0e', '#2ca02c']\n",
    "fontsize = 15\n",
    "\n",
    "fig, ax = plt.subplots(figsize = (3, 2), dpi=100)\n",
    "for idx, column in enumerate(df_number.columns):\n",
    "    y = df_number[column].values\n",
    "    x = [idx + 0.1*x for x in range(-1, 2)]\n",
    "    ax.scatter(x, y, s=30, c=colors)\n",
    "\n",
    "ax.errorbar(x=list(range(len(df_number))), y=SE_mean[0], yerr=SE_sem,\n",
    "            capsize=5, fmt='_', ecolor='k', ms=20, mfc='None', mec='k')\n",
    "\n",
    "ax.spines['right'].set_visible(False)\n",
    "ax.spines['top'].set_visible(False)\n",
    "\n",
    "ax.set_xlim(-0.5, 2.5)\n",
    "ax.set_xticks([0, 1, 2])\n",
    "ax.set_xticklabels([\"1\", \"2\", \">2\"], fontsize=fontsize)\n",
    "ax.set_xlabel(\"Puncta / cell\", fontsize=fontsize)\n",
    "\n",
    "ax.set_ylim(-10, 110)\n",
    "ax.set_yticks([0, 20, 40, 60, 80, 100])\n",
    "ax.set_yticklabels([\"0\", \"20\", \"40\", \"60\", \"80\", \"100\"], fontsize=fontsize)\n",
    "ax.set_ylabel(\"% among puncta\\nhaving cells\", fontsize=fontsize)\n",
    "\n",
    "fig.savefig(\"output.jpg\", bbox_inches=\"tight\")\n",
    "plt.show()"
   ]
  }
 ],
 "metadata": {
  "kernelspec": {
   "display_name": "Python 3 (ipykernel)",
   "language": "python",
   "name": "python3"
  },
  "language_info": {
   "codemirror_mode": {
    "name": "ipython",
    "version": 3
   },
   "file_extension": ".py",
   "mimetype": "text/x-python",
   "name": "python",
   "nbconvert_exporter": "python",
   "pygments_lexer": "ipython3",
   "version": "3.12.7"
  }
 },
 "nbformat": 4,
 "nbformat_minor": 5
}
